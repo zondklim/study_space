{
 "cells": [
  {
   "cell_type": "markdown",
   "metadata": {
    "slideshow": {
     "slide_type": "-"
    }
   },
   "source": [
    "# Выбор локации для скважины"
   ]
  },
  {
   "cell_type": "markdown",
   "metadata": {},
   "source": [
    "\n",
    "\n",
    "В данном проекте нам предоставлены пробы нефти в трёх регионах: в каждом 10 000 месторождений, где измерили качество нефти и объём её запасов.\n",
    "\n",
    "Цель данного проекта: определить регион, с максимальной прибылью и минимальными рисками получения убытков, использую модель линейной регрессии, а прибыль и риски будем считать с использованием техники Bootstrap.\n",
    "\n",
    "В данном проекте нужно будет изучить данные, найти признаки, которые влияют на запасы нефти в регионе. Определите чистоту данных, удалить выбросы. Обучить модель и проверить метрики точности. Используя предсказания модели посчитать прибыль и риски убытков.\n",
    "\n",
    "Шаги для выбора локации:\n",
    "\n",
    "- В избранном регионе ищут месторождения, для каждого определяют значения признаков;\n",
    "- Строят модель и оценивают объём запасов;\n",
    "- Выбирают месторождения с самым высокими оценками значений. Количество месторождений зависит от бюджета компании и стоимости разработки одной скважины;\n",
    "- Прибыль равна суммарной прибыли отобранных месторождений."
   ]
  },
  {
   "cell_type": "markdown",
   "metadata": {},
   "source": [
    "## Загрузка и подготовка данных"
   ]
  },
  {
   "cell_type": "code",
   "execution_count": 1,
   "metadata": {},
   "outputs": [
    {
     "name": "stdout",
     "output_type": "stream",
     "text": [
      "Requirement already satisfied: phik in /Users/zond/opt/anaconda3/lib/python3.9/site-packages (0.12.3)\n",
      "Requirement already satisfied: numpy>=1.18.0 in /Users/zond/opt/anaconda3/lib/python3.9/site-packages (from phik) (1.21.5)\n",
      "Requirement already satisfied: matplotlib>=2.2.3 in /Users/zond/opt/anaconda3/lib/python3.9/site-packages (from phik) (3.5.2)\n",
      "Requirement already satisfied: joblib>=0.14.1 in /Users/zond/opt/anaconda3/lib/python3.9/site-packages (from phik) (1.1.0)\n",
      "Requirement already satisfied: pandas>=0.25.1 in /Users/zond/opt/anaconda3/lib/python3.9/site-packages (from phik) (1.4.4)\n",
      "Requirement already satisfied: scipy>=1.5.2 in /Users/zond/opt/anaconda3/lib/python3.9/site-packages (from phik) (1.9.1)\n",
      "Requirement already satisfied: kiwisolver>=1.0.1 in /Users/zond/opt/anaconda3/lib/python3.9/site-packages (from matplotlib>=2.2.3->phik) (1.4.2)\n",
      "Requirement already satisfied: fonttools>=4.22.0 in /Users/zond/opt/anaconda3/lib/python3.9/site-packages (from matplotlib>=2.2.3->phik) (4.25.0)\n",
      "Requirement already satisfied: cycler>=0.10 in /Users/zond/opt/anaconda3/lib/python3.9/site-packages (from matplotlib>=2.2.3->phik) (0.11.0)\n",
      "Requirement already satisfied: packaging>=20.0 in /Users/zond/opt/anaconda3/lib/python3.9/site-packages (from matplotlib>=2.2.3->phik) (21.3)\n",
      "Requirement already satisfied: python-dateutil>=2.7 in /Users/zond/opt/anaconda3/lib/python3.9/site-packages (from matplotlib>=2.2.3->phik) (2.8.2)\n",
      "Requirement already satisfied: pyparsing>=2.2.1 in /Users/zond/opt/anaconda3/lib/python3.9/site-packages (from matplotlib>=2.2.3->phik) (3.0.9)\n",
      "Requirement already satisfied: pillow>=6.2.0 in /Users/zond/opt/anaconda3/lib/python3.9/site-packages (from matplotlib>=2.2.3->phik) (9.2.0)\n",
      "Requirement already satisfied: pytz>=2020.1 in /Users/zond/opt/anaconda3/lib/python3.9/site-packages (from pandas>=0.25.1->phik) (2022.1)\n",
      "Requirement already satisfied: six>=1.5 in /Users/zond/opt/anaconda3/lib/python3.9/site-packages (from python-dateutil>=2.7->matplotlib>=2.2.3->phik) (1.16.0)\n",
      "Note: you may need to restart the kernel to use updated packages.\n"
     ]
    }
   ],
   "source": [
    "pip install phik\n"
   ]
  },
  {
   "cell_type": "code",
   "execution_count": 2,
   "metadata": {},
   "outputs": [
    {
     "name": "stdout",
     "output_type": "stream",
     "text": [
      "Requirement already satisfied: tabulate in /Users/zond/opt/anaconda3/lib/python3.9/site-packages (0.8.10)\n",
      "Note: you may need to restart the kernel to use updated packages.\n"
     ]
    }
   ],
   "source": [
    "pip install tabulate"
   ]
  },
  {
   "cell_type": "code",
   "execution_count": 3,
   "metadata": {},
   "outputs": [],
   "source": [
    "#для работы с данными \n",
    "import pandas as pd\n",
    "import numpy as np\n",
    "#для оценки корреляции\n",
    "import matplotlib.pyplot as plt \n",
    "import phik\n",
    "from phik.report import plot_correlation_matrix\n",
    "from phik import report\n",
    "\n",
    "#для обучения модели \n",
    "from sklearn.model_selection import train_test_split\n",
    "from sklearn.linear_model import LinearRegression\n",
    "from sklearn.preprocessing import StandardScaler\n",
    "from sklearn.pipeline import make_pipeline\n",
    "\n",
    "#метрики модели \n",
    "from sklearn.metrics import mean_squared_error\n",
    "from sklearn.metrics import r2_score\n",
    "\n",
    "#для Bootstrap\n",
    "from numpy.random import RandomState\n",
    "\n",
    "#для работы функций\n",
    "import tqdm\n",
    "import itertools\n",
    "\n",
    "#для выведения данных \n",
    "from IPython.display import HTML, display\n",
    "from tabulate import tabulate "
   ]
  },
  {
   "cell_type": "code",
   "execution_count": 4,
   "metadata": {},
   "outputs": [],
   "source": [
    "# Create data for every region \n",
    "try:\n",
    "    zero_data = pd.read_csv('/Users/zond/Downloads/geo_data_0.csv')\n",
    "    first_data = pd.read_csv('/Users/zond/Downloads/geo_data_1.csv')\n",
    "    second_data = pd.read_csv('/Users/zond/Downloads/geo_data_2.csv')\n",
    "except:\n",
    "    zero_data = pd.read_csv('/datasets/geo_data_0.csv')\n",
    "    first_data = pd.read_csv('/datasets/geo_data_1.csv')\n",
    "    second_data = pd.read_csv('/datasets/geo_data_2.csv')"
   ]
  },
  {
   "cell_type": "code",
   "execution_count": 5,
   "metadata": {},
   "outputs": [],
   "source": [
    "def display_info(isFrame, **data):\n",
    "    \"\"\"\n",
    "    \n",
    "    Функция выводит на экран перве пять строк датафрейма, подписывая каждый\n",
    "    Принимает на вход данные в следующем формате: желаемое_название_таблицы = {'доп_информация':название_датасета}\n",
    "    *** Если доп информации нет, то передавайте ''\n",
    "    \n",
    "    \"\"\"\n",
    "    \n",
    "    # используем функцию display,если передается фрейм и print, если передаются отсальные типы\n",
    "    if isFrame:\n",
    "        func = display \n",
    "    else:\n",
    "        func = print\n",
    "    # в цикле разберем переданные параметры \n",
    "    for data_name, data_inf in data.items():\n",
    "    #обернем название в сетку, равную его длине \n",
    "        data_print = '|| ' + data_name.upper() + ' ||'\n",
    "        print('='*len(data_print))\n",
    "        print(data_print)\n",
    "        print('='*len(data_print))\n",
    "        print()\n",
    "        \n",
    "        #выводим фрейм\n",
    "        for inf, frame in data_inf.items():\n",
    "        #если доп информации нет, то выводим только фрейм \n",
    "            if not inf:\n",
    "                func(frame)\n",
    "        \n",
    "            else:\n",
    "                func(inf, frame)\n",
    "            print()\n",
    "\n",
    "    "
   ]
  },
  {
   "cell_type": "code",
   "execution_count": 6,
   "metadata": {},
   "outputs": [
    {
     "name": "stdout",
     "output_type": "stream",
     "text": [
      "===============\n",
      "|| ZERO_DATA ||\n",
      "===============\n",
      "\n"
     ]
    },
    {
     "data": {
      "text/html": [
       "<div>\n",
       "<style scoped>\n",
       "    .dataframe tbody tr th:only-of-type {\n",
       "        vertical-align: middle;\n",
       "    }\n",
       "\n",
       "    .dataframe tbody tr th {\n",
       "        vertical-align: top;\n",
       "    }\n",
       "\n",
       "    .dataframe thead th {\n",
       "        text-align: right;\n",
       "    }\n",
       "</style>\n",
       "<table border=\"1\" class=\"dataframe\">\n",
       "  <thead>\n",
       "    <tr style=\"text-align: right;\">\n",
       "      <th></th>\n",
       "      <th>id</th>\n",
       "      <th>f0</th>\n",
       "      <th>f1</th>\n",
       "      <th>f2</th>\n",
       "      <th>product</th>\n",
       "    </tr>\n",
       "  </thead>\n",
       "  <tbody>\n",
       "    <tr>\n",
       "      <th>0</th>\n",
       "      <td>txEyH</td>\n",
       "      <td>0.705745</td>\n",
       "      <td>-0.497823</td>\n",
       "      <td>1.221170</td>\n",
       "      <td>105.280062</td>\n",
       "    </tr>\n",
       "    <tr>\n",
       "      <th>1</th>\n",
       "      <td>2acmU</td>\n",
       "      <td>1.334711</td>\n",
       "      <td>-0.340164</td>\n",
       "      <td>4.365080</td>\n",
       "      <td>73.037750</td>\n",
       "    </tr>\n",
       "    <tr>\n",
       "      <th>2</th>\n",
       "      <td>409Wp</td>\n",
       "      <td>1.022732</td>\n",
       "      <td>0.151990</td>\n",
       "      <td>1.419926</td>\n",
       "      <td>85.265647</td>\n",
       "    </tr>\n",
       "    <tr>\n",
       "      <th>3</th>\n",
       "      <td>iJLyR</td>\n",
       "      <td>-0.032172</td>\n",
       "      <td>0.139033</td>\n",
       "      <td>2.978566</td>\n",
       "      <td>168.620776</td>\n",
       "    </tr>\n",
       "    <tr>\n",
       "      <th>4</th>\n",
       "      <td>Xdl7t</td>\n",
       "      <td>1.988431</td>\n",
       "      <td>0.155413</td>\n",
       "      <td>4.751769</td>\n",
       "      <td>154.036647</td>\n",
       "    </tr>\n",
       "  </tbody>\n",
       "</table>\n",
       "</div>"
      ],
      "text/plain": [
       "      id        f0        f1        f2     product\n",
       "0  txEyH  0.705745 -0.497823  1.221170  105.280062\n",
       "1  2acmU  1.334711 -0.340164  4.365080   73.037750\n",
       "2  409Wp  1.022732  0.151990  1.419926   85.265647\n",
       "3  iJLyR -0.032172  0.139033  2.978566  168.620776\n",
       "4  Xdl7t  1.988431  0.155413  4.751769  154.036647"
      ]
     },
     "metadata": {},
     "output_type": "display_data"
    },
    {
     "name": "stdout",
     "output_type": "stream",
     "text": [
      "\n",
      "================\n",
      "|| FIRST_DATA ||\n",
      "================\n",
      "\n"
     ]
    },
    {
     "data": {
      "text/html": [
       "<div>\n",
       "<style scoped>\n",
       "    .dataframe tbody tr th:only-of-type {\n",
       "        vertical-align: middle;\n",
       "    }\n",
       "\n",
       "    .dataframe tbody tr th {\n",
       "        vertical-align: top;\n",
       "    }\n",
       "\n",
       "    .dataframe thead th {\n",
       "        text-align: right;\n",
       "    }\n",
       "</style>\n",
       "<table border=\"1\" class=\"dataframe\">\n",
       "  <thead>\n",
       "    <tr style=\"text-align: right;\">\n",
       "      <th></th>\n",
       "      <th>id</th>\n",
       "      <th>f0</th>\n",
       "      <th>f1</th>\n",
       "      <th>f2</th>\n",
       "      <th>product</th>\n",
       "    </tr>\n",
       "  </thead>\n",
       "  <tbody>\n",
       "    <tr>\n",
       "      <th>0</th>\n",
       "      <td>kBEdx</td>\n",
       "      <td>-15.001348</td>\n",
       "      <td>-8.276000</td>\n",
       "      <td>-0.005876</td>\n",
       "      <td>3.179103</td>\n",
       "    </tr>\n",
       "    <tr>\n",
       "      <th>1</th>\n",
       "      <td>62mP7</td>\n",
       "      <td>14.272088</td>\n",
       "      <td>-3.475083</td>\n",
       "      <td>0.999183</td>\n",
       "      <td>26.953261</td>\n",
       "    </tr>\n",
       "    <tr>\n",
       "      <th>2</th>\n",
       "      <td>vyE1P</td>\n",
       "      <td>6.263187</td>\n",
       "      <td>-5.948386</td>\n",
       "      <td>5.001160</td>\n",
       "      <td>134.766305</td>\n",
       "    </tr>\n",
       "    <tr>\n",
       "      <th>3</th>\n",
       "      <td>KcrkZ</td>\n",
       "      <td>-13.081196</td>\n",
       "      <td>-11.506057</td>\n",
       "      <td>4.999415</td>\n",
       "      <td>137.945408</td>\n",
       "    </tr>\n",
       "    <tr>\n",
       "      <th>4</th>\n",
       "      <td>AHL4O</td>\n",
       "      <td>12.702195</td>\n",
       "      <td>-8.147433</td>\n",
       "      <td>5.004363</td>\n",
       "      <td>134.766305</td>\n",
       "    </tr>\n",
       "  </tbody>\n",
       "</table>\n",
       "</div>"
      ],
      "text/plain": [
       "      id         f0         f1        f2     product\n",
       "0  kBEdx -15.001348  -8.276000 -0.005876    3.179103\n",
       "1  62mP7  14.272088  -3.475083  0.999183   26.953261\n",
       "2  vyE1P   6.263187  -5.948386  5.001160  134.766305\n",
       "3  KcrkZ -13.081196 -11.506057  4.999415  137.945408\n",
       "4  AHL4O  12.702195  -8.147433  5.004363  134.766305"
      ]
     },
     "metadata": {},
     "output_type": "display_data"
    },
    {
     "name": "stdout",
     "output_type": "stream",
     "text": [
      "\n",
      "=================\n",
      "|| SECOND_DATA ||\n",
      "=================\n",
      "\n"
     ]
    },
    {
     "data": {
      "text/html": [
       "<div>\n",
       "<style scoped>\n",
       "    .dataframe tbody tr th:only-of-type {\n",
       "        vertical-align: middle;\n",
       "    }\n",
       "\n",
       "    .dataframe tbody tr th {\n",
       "        vertical-align: top;\n",
       "    }\n",
       "\n",
       "    .dataframe thead th {\n",
       "        text-align: right;\n",
       "    }\n",
       "</style>\n",
       "<table border=\"1\" class=\"dataframe\">\n",
       "  <thead>\n",
       "    <tr style=\"text-align: right;\">\n",
       "      <th></th>\n",
       "      <th>id</th>\n",
       "      <th>f0</th>\n",
       "      <th>f1</th>\n",
       "      <th>f2</th>\n",
       "      <th>product</th>\n",
       "    </tr>\n",
       "  </thead>\n",
       "  <tbody>\n",
       "    <tr>\n",
       "      <th>0</th>\n",
       "      <td>fwXo0</td>\n",
       "      <td>-1.146987</td>\n",
       "      <td>0.963328</td>\n",
       "      <td>-0.828965</td>\n",
       "      <td>27.758673</td>\n",
       "    </tr>\n",
       "    <tr>\n",
       "      <th>1</th>\n",
       "      <td>WJtFt</td>\n",
       "      <td>0.262778</td>\n",
       "      <td>0.269839</td>\n",
       "      <td>-2.530187</td>\n",
       "      <td>56.069697</td>\n",
       "    </tr>\n",
       "    <tr>\n",
       "      <th>2</th>\n",
       "      <td>ovLUW</td>\n",
       "      <td>0.194587</td>\n",
       "      <td>0.289035</td>\n",
       "      <td>-5.586433</td>\n",
       "      <td>62.871910</td>\n",
       "    </tr>\n",
       "    <tr>\n",
       "      <th>3</th>\n",
       "      <td>q6cA6</td>\n",
       "      <td>2.236060</td>\n",
       "      <td>-0.553760</td>\n",
       "      <td>0.930038</td>\n",
       "      <td>114.572842</td>\n",
       "    </tr>\n",
       "    <tr>\n",
       "      <th>4</th>\n",
       "      <td>WPMUX</td>\n",
       "      <td>-0.515993</td>\n",
       "      <td>1.716266</td>\n",
       "      <td>5.899011</td>\n",
       "      <td>149.600746</td>\n",
       "    </tr>\n",
       "  </tbody>\n",
       "</table>\n",
       "</div>"
      ],
      "text/plain": [
       "      id        f0        f1        f2     product\n",
       "0  fwXo0 -1.146987  0.963328 -0.828965   27.758673\n",
       "1  WJtFt  0.262778  0.269839 -2.530187   56.069697\n",
       "2  ovLUW  0.194587  0.289035 -5.586433   62.871910\n",
       "3  q6cA6  2.236060 -0.553760  0.930038  114.572842\n",
       "4  WPMUX -0.515993  1.716266  5.899011  149.600746"
      ]
     },
     "metadata": {},
     "output_type": "display_data"
    },
    {
     "name": "stdout",
     "output_type": "stream",
     "text": [
      "\n"
     ]
    }
   ],
   "source": [
    "display_info(True, zero_data = {'':zero_data.head()},\n",
    "            first_data = {'':first_data.head()},\n",
    "            second_data = {'':second_data.head()})"
   ]
  },
  {
   "cell_type": "code",
   "execution_count": 7,
   "metadata": {},
   "outputs": [
    {
     "name": "stdout",
     "output_type": "stream",
     "text": [
      "=================\n",
      "|| ZERO_DATA ||\n",
      "=================\n",
      "\n",
      "<class 'pandas.core.frame.DataFrame'>\n",
      "RangeIndex: 100000 entries, 0 to 99999\n",
      "Data columns (total 5 columns):\n",
      " #   Column   Non-Null Count   Dtype  \n",
      "---  ------   --------------   -----  \n",
      " 0   id       100000 non-null  object \n",
      " 1   f0       100000 non-null  float64\n",
      " 2   f1       100000 non-null  float64\n",
      " 3   f2       100000 non-null  float64\n",
      " 4   product  100000 non-null  float64\n",
      "dtypes: float64(4), object(1)\n",
      "memory usage: 3.8+ MB\n",
      "None\n",
      "\n",
      "=================\n",
      "|| FIRST_DATA ||\n",
      "=================\n",
      "\n",
      "<class 'pandas.core.frame.DataFrame'>\n",
      "RangeIndex: 100000 entries, 0 to 99999\n",
      "Data columns (total 5 columns):\n",
      " #   Column   Non-Null Count   Dtype  \n",
      "---  ------   --------------   -----  \n",
      " 0   id       100000 non-null  object \n",
      " 1   f0       100000 non-null  float64\n",
      " 2   f1       100000 non-null  float64\n",
      " 3   f2       100000 non-null  float64\n",
      " 4   product  100000 non-null  float64\n",
      "dtypes: float64(4), object(1)\n",
      "memory usage: 3.8+ MB\n",
      "None\n",
      "\n",
      "=================\n",
      "|| SECOND_DATA ||\n",
      "=================\n",
      "\n",
      "<class 'pandas.core.frame.DataFrame'>\n",
      "RangeIndex: 100000 entries, 0 to 99999\n",
      "Data columns (total 5 columns):\n",
      " #   Column   Non-Null Count   Dtype  \n",
      "---  ------   --------------   -----  \n",
      " 0   id       100000 non-null  object \n",
      " 1   f0       100000 non-null  float64\n",
      " 2   f1       100000 non-null  float64\n",
      " 3   f2       100000 non-null  float64\n",
      " 4   product  100000 non-null  float64\n",
      "dtypes: float64(4), object(1)\n",
      "memory usage: 3.8+ MB\n",
      "None\n"
     ]
    }
   ],
   "source": [
    "print('=================')\n",
    "print('|| ZERO_DATA ||')\n",
    "print('=================')\n",
    "print()\n",
    "print(zero_data.info())\n",
    "print()\n",
    "print('=================')\n",
    "print('|| FIRST_DATA ||')\n",
    "print('=================')\n",
    "print()\n",
    "print(first_data.info())\n",
    "print()\n",
    "print('=================')\n",
    "print('|| SECOND_DATA ||')\n",
    "print('=================')\n",
    "print()\n",
    "print(second_data.info())"
   ]
  },
  {
   "cell_type": "code",
   "execution_count": 8,
   "metadata": {
    "scrolled": true
   },
   "outputs": [
    {
     "name": "stdout",
     "output_type": "stream",
     "text": [
      "================\n",
      "|| ZERO_FRAME ||\n",
      "================\n",
      "\n",
      "Количество дубликатов: 10\n",
      "\n",
      "=================\n",
      "|| FIRST_FRAME ||\n",
      "=================\n",
      "\n",
      "Количество дубликатов: 4\n",
      "\n",
      "==================\n",
      "|| SECOND_FRAME ||\n",
      "==================\n",
      "\n",
      "Количество дубликатов: 4\n",
      "\n"
     ]
    }
   ],
   "source": [
    "display_info(False,\n",
    "             Zero_Frame = {'Количество дубликатов:':zero_data['id'].duplicated().sum()},\n",
    "             First_Frame = {'Количество дубликатов:':first_data['id'].duplicated().sum()},\n",
    "             Second_Frame = {'Количество дубликатов:':second_data['id'].duplicated().sum()})"
   ]
  },
  {
   "cell_type": "code",
   "execution_count": 9,
   "metadata": {
    "scrolled": true
   },
   "outputs": [
    {
     "name": "stdout",
     "output_type": "stream",
     "text": [
      "================\n",
      "|| ZERO_FRAME ||\n",
      "================\n",
      "\n"
     ]
    },
    {
     "data": {
      "text/html": [
       "<div>\n",
       "<style scoped>\n",
       "    .dataframe tbody tr th:only-of-type {\n",
       "        vertical-align: middle;\n",
       "    }\n",
       "\n",
       "    .dataframe tbody tr th {\n",
       "        vertical-align: top;\n",
       "    }\n",
       "\n",
       "    .dataframe thead th {\n",
       "        text-align: right;\n",
       "    }\n",
       "</style>\n",
       "<table border=\"1\" class=\"dataframe\">\n",
       "  <thead>\n",
       "    <tr style=\"text-align: right;\">\n",
       "      <th></th>\n",
       "      <th>f0</th>\n",
       "      <th>f1</th>\n",
       "      <th>f2</th>\n",
       "      <th>product</th>\n",
       "    </tr>\n",
       "  </thead>\n",
       "  <tbody>\n",
       "    <tr>\n",
       "      <th>count</th>\n",
       "      <td>100000.000000</td>\n",
       "      <td>100000.000000</td>\n",
       "      <td>100000.000000</td>\n",
       "      <td>100000.000000</td>\n",
       "    </tr>\n",
       "    <tr>\n",
       "      <th>mean</th>\n",
       "      <td>0.500419</td>\n",
       "      <td>0.250143</td>\n",
       "      <td>2.502647</td>\n",
       "      <td>92.500000</td>\n",
       "    </tr>\n",
       "    <tr>\n",
       "      <th>std</th>\n",
       "      <td>0.871832</td>\n",
       "      <td>0.504433</td>\n",
       "      <td>3.248248</td>\n",
       "      <td>44.288691</td>\n",
       "    </tr>\n",
       "    <tr>\n",
       "      <th>min</th>\n",
       "      <td>-1.408605</td>\n",
       "      <td>-0.848218</td>\n",
       "      <td>-12.088328</td>\n",
       "      <td>0.000000</td>\n",
       "    </tr>\n",
       "    <tr>\n",
       "      <th>25%</th>\n",
       "      <td>-0.072580</td>\n",
       "      <td>-0.200881</td>\n",
       "      <td>0.287748</td>\n",
       "      <td>56.497507</td>\n",
       "    </tr>\n",
       "    <tr>\n",
       "      <th>50%</th>\n",
       "      <td>0.502360</td>\n",
       "      <td>0.250252</td>\n",
       "      <td>2.515969</td>\n",
       "      <td>91.849972</td>\n",
       "    </tr>\n",
       "    <tr>\n",
       "      <th>75%</th>\n",
       "      <td>1.073581</td>\n",
       "      <td>0.700646</td>\n",
       "      <td>4.715088</td>\n",
       "      <td>128.564089</td>\n",
       "    </tr>\n",
       "    <tr>\n",
       "      <th>max</th>\n",
       "      <td>2.362331</td>\n",
       "      <td>1.343769</td>\n",
       "      <td>16.003790</td>\n",
       "      <td>185.364347</td>\n",
       "    </tr>\n",
       "  </tbody>\n",
       "</table>\n",
       "</div>"
      ],
      "text/plain": [
       "                  f0             f1             f2        product\n",
       "count  100000.000000  100000.000000  100000.000000  100000.000000\n",
       "mean        0.500419       0.250143       2.502647      92.500000\n",
       "std         0.871832       0.504433       3.248248      44.288691\n",
       "min        -1.408605      -0.848218     -12.088328       0.000000\n",
       "25%        -0.072580      -0.200881       0.287748      56.497507\n",
       "50%         0.502360       0.250252       2.515969      91.849972\n",
       "75%         1.073581       0.700646       4.715088     128.564089\n",
       "max         2.362331       1.343769      16.003790     185.364347"
      ]
     },
     "metadata": {},
     "output_type": "display_data"
    },
    {
     "name": "stdout",
     "output_type": "stream",
     "text": [
      "\n",
      "=================\n",
      "|| FIRST_FRAME ||\n",
      "=================\n",
      "\n"
     ]
    },
    {
     "data": {
      "text/html": [
       "<div>\n",
       "<style scoped>\n",
       "    .dataframe tbody tr th:only-of-type {\n",
       "        vertical-align: middle;\n",
       "    }\n",
       "\n",
       "    .dataframe tbody tr th {\n",
       "        vertical-align: top;\n",
       "    }\n",
       "\n",
       "    .dataframe thead th {\n",
       "        text-align: right;\n",
       "    }\n",
       "</style>\n",
       "<table border=\"1\" class=\"dataframe\">\n",
       "  <thead>\n",
       "    <tr style=\"text-align: right;\">\n",
       "      <th></th>\n",
       "      <th>f0</th>\n",
       "      <th>f1</th>\n",
       "      <th>f2</th>\n",
       "      <th>product</th>\n",
       "    </tr>\n",
       "  </thead>\n",
       "  <tbody>\n",
       "    <tr>\n",
       "      <th>count</th>\n",
       "      <td>100000.000000</td>\n",
       "      <td>100000.000000</td>\n",
       "      <td>100000.000000</td>\n",
       "      <td>100000.000000</td>\n",
       "    </tr>\n",
       "    <tr>\n",
       "      <th>mean</th>\n",
       "      <td>1.141296</td>\n",
       "      <td>-4.796579</td>\n",
       "      <td>2.494541</td>\n",
       "      <td>68.825000</td>\n",
       "    </tr>\n",
       "    <tr>\n",
       "      <th>std</th>\n",
       "      <td>8.965932</td>\n",
       "      <td>5.119872</td>\n",
       "      <td>1.703572</td>\n",
       "      <td>45.944423</td>\n",
       "    </tr>\n",
       "    <tr>\n",
       "      <th>min</th>\n",
       "      <td>-31.609576</td>\n",
       "      <td>-26.358598</td>\n",
       "      <td>-0.018144</td>\n",
       "      <td>0.000000</td>\n",
       "    </tr>\n",
       "    <tr>\n",
       "      <th>25%</th>\n",
       "      <td>-6.298551</td>\n",
       "      <td>-8.267985</td>\n",
       "      <td>1.000021</td>\n",
       "      <td>26.953261</td>\n",
       "    </tr>\n",
       "    <tr>\n",
       "      <th>50%</th>\n",
       "      <td>1.153055</td>\n",
       "      <td>-4.813172</td>\n",
       "      <td>2.011479</td>\n",
       "      <td>57.085625</td>\n",
       "    </tr>\n",
       "    <tr>\n",
       "      <th>75%</th>\n",
       "      <td>8.621015</td>\n",
       "      <td>-1.332816</td>\n",
       "      <td>3.999904</td>\n",
       "      <td>107.813044</td>\n",
       "    </tr>\n",
       "    <tr>\n",
       "      <th>max</th>\n",
       "      <td>29.421755</td>\n",
       "      <td>18.734063</td>\n",
       "      <td>5.019721</td>\n",
       "      <td>137.945408</td>\n",
       "    </tr>\n",
       "  </tbody>\n",
       "</table>\n",
       "</div>"
      ],
      "text/plain": [
       "                  f0             f1             f2        product\n",
       "count  100000.000000  100000.000000  100000.000000  100000.000000\n",
       "mean        1.141296      -4.796579       2.494541      68.825000\n",
       "std         8.965932       5.119872       1.703572      45.944423\n",
       "min       -31.609576     -26.358598      -0.018144       0.000000\n",
       "25%        -6.298551      -8.267985       1.000021      26.953261\n",
       "50%         1.153055      -4.813172       2.011479      57.085625\n",
       "75%         8.621015      -1.332816       3.999904     107.813044\n",
       "max        29.421755      18.734063       5.019721     137.945408"
      ]
     },
     "metadata": {},
     "output_type": "display_data"
    },
    {
     "name": "stdout",
     "output_type": "stream",
     "text": [
      "\n",
      "==================\n",
      "|| SECOND_FRAME ||\n",
      "==================\n",
      "\n"
     ]
    },
    {
     "data": {
      "text/html": [
       "<div>\n",
       "<style scoped>\n",
       "    .dataframe tbody tr th:only-of-type {\n",
       "        vertical-align: middle;\n",
       "    }\n",
       "\n",
       "    .dataframe tbody tr th {\n",
       "        vertical-align: top;\n",
       "    }\n",
       "\n",
       "    .dataframe thead th {\n",
       "        text-align: right;\n",
       "    }\n",
       "</style>\n",
       "<table border=\"1\" class=\"dataframe\">\n",
       "  <thead>\n",
       "    <tr style=\"text-align: right;\">\n",
       "      <th></th>\n",
       "      <th>f0</th>\n",
       "      <th>f1</th>\n",
       "      <th>f2</th>\n",
       "      <th>product</th>\n",
       "    </tr>\n",
       "  </thead>\n",
       "  <tbody>\n",
       "    <tr>\n",
       "      <th>count</th>\n",
       "      <td>100000.000000</td>\n",
       "      <td>100000.000000</td>\n",
       "      <td>100000.000000</td>\n",
       "      <td>100000.000000</td>\n",
       "    </tr>\n",
       "    <tr>\n",
       "      <th>mean</th>\n",
       "      <td>0.002023</td>\n",
       "      <td>-0.002081</td>\n",
       "      <td>2.495128</td>\n",
       "      <td>95.000000</td>\n",
       "    </tr>\n",
       "    <tr>\n",
       "      <th>std</th>\n",
       "      <td>1.732045</td>\n",
       "      <td>1.730417</td>\n",
       "      <td>3.473445</td>\n",
       "      <td>44.749921</td>\n",
       "    </tr>\n",
       "    <tr>\n",
       "      <th>min</th>\n",
       "      <td>-8.760004</td>\n",
       "      <td>-7.084020</td>\n",
       "      <td>-11.970335</td>\n",
       "      <td>0.000000</td>\n",
       "    </tr>\n",
       "    <tr>\n",
       "      <th>25%</th>\n",
       "      <td>-1.162288</td>\n",
       "      <td>-1.174820</td>\n",
       "      <td>0.130359</td>\n",
       "      <td>59.450441</td>\n",
       "    </tr>\n",
       "    <tr>\n",
       "      <th>50%</th>\n",
       "      <td>0.009424</td>\n",
       "      <td>-0.009482</td>\n",
       "      <td>2.484236</td>\n",
       "      <td>94.925613</td>\n",
       "    </tr>\n",
       "    <tr>\n",
       "      <th>75%</th>\n",
       "      <td>1.158535</td>\n",
       "      <td>1.163678</td>\n",
       "      <td>4.858794</td>\n",
       "      <td>130.595027</td>\n",
       "    </tr>\n",
       "    <tr>\n",
       "      <th>max</th>\n",
       "      <td>7.238262</td>\n",
       "      <td>7.844801</td>\n",
       "      <td>16.739402</td>\n",
       "      <td>190.029838</td>\n",
       "    </tr>\n",
       "  </tbody>\n",
       "</table>\n",
       "</div>"
      ],
      "text/plain": [
       "                  f0             f1             f2        product\n",
       "count  100000.000000  100000.000000  100000.000000  100000.000000\n",
       "mean        0.002023      -0.002081       2.495128      95.000000\n",
       "std         1.732045       1.730417       3.473445      44.749921\n",
       "min        -8.760004      -7.084020     -11.970335       0.000000\n",
       "25%        -1.162288      -1.174820       0.130359      59.450441\n",
       "50%         0.009424      -0.009482       2.484236      94.925613\n",
       "75%         1.158535       1.163678       4.858794     130.595027\n",
       "max         7.238262       7.844801      16.739402     190.029838"
      ]
     },
     "metadata": {},
     "output_type": "display_data"
    },
    {
     "name": "stdout",
     "output_type": "stream",
     "text": [
      "\n"
     ]
    }
   ],
   "source": [
    "display_info(True,\n",
    "             Zero_Frame = {'':zero_data.describe()},\n",
    "             First_Frame = {'':first_data.describe()},\n",
    "             Second_Frame = {'':second_data.describe()})"
   ]
  },
  {
   "cell_type": "code",
   "execution_count": 10,
   "metadata": {},
   "outputs": [
    {
     "data": {
      "image/png": "[encoded data removed]",
      "text/plain": [
       "<Figure size 1500x1000 with 12 Axes>"
      ]
     },
     "metadata": {},
     "output_type": "display_data"
    }
   ],
   "source": [
    "\n",
    "fig,ax = plt.subplots(3,4,figsize = (15,10))\n",
    "\n",
    "all_frames = [\"zero_data\",\"first_data\",\"second_data\"]\n",
    "num_columns = zero_data.columns[1:]\n",
    "num_columns_with_columns = zip(zero_data.columns[1:],range(4))\n",
    "all_frames_with_rows = zip([zero_data,first_data,second_data],range(3))\n",
    "# Построим графики\n",
    "for column in list(itertools.product(all_frames_with_rows,num_columns_with_columns)):\n",
    "    ax[column[0][1]][column[1][1]].boxplot(column[0][0][column[1][0]])\n",
    "# Добавим название фрейма изображаемого на графике\n",
    "for row in range(3):\n",
    "    ax[row][0].set_ylabel(all_frames[row])\n",
    "# Добавим название столбца изображаемого на графике\n",
    "for column in range(4):\n",
    "    ax[0][column].set_title(num_columns[column])"
   ]
  },
  {
   "cell_type": "markdown",
   "metadata": {},
   "source": [
    "в данных есть выбросы\n",
    "выбрасы нужно будет удалить в столбцах zero_data[f2], first_data[f0], first_data[f1], second_data[f2], second_data[f1], second_data[f0]\n"
   ]
  },
  {
   "cell_type": "code",
   "execution_count": 11,
   "metadata": {},
   "outputs": [
    {
     "name": "stdout",
     "output_type": "stream",
     "text": [
      "interval columns not set, guessing: ['f0', 'f1', 'f2', 'product']\n",
      "interval columns not set, guessing: ['f0', 'f1', 'f2', 'product']\n",
      "interval columns not set, guessing: ['f0', 'f1', 'f2', 'product']\n"
     ]
    }
   ],
   "source": [
    "#оценим зависимость в данных использую корреляцию Phik\n",
    "phik = ['f0', 'f1', 'f2', 'product']\n",
    "phik_zero_overview = zero_data[phik].phik_matrix()\n",
    "phik_first_overview = first_data[phik].phik_matrix()\n",
    "phik_second_overview = second_data[phik].phik_matrix()"
   ]
  },
  {
   "cell_type": "code",
   "execution_count": 12,
   "metadata": {},
   "outputs": [
    {
     "data": {
      "text/plain": [
       "<function matplotlib.pyplot.show(close=None, block=None)>"
      ]
     },
     "execution_count": 12,
     "metadata": {},
     "output_type": "execute_result"
    },
    {
     "data": {
      "image/png": "[encoded data removed]",
      "text/plain": [
       "<Figure size 500x300 with 2 Axes>"
      ]
     },
     "metadata": {},
     "output_type": "display_data"
    },
    {
     "data": {
      "image/png": "[encoded data removed]",
      "text/plain": [
       "<Figure size 500x300 with 2 Axes>"
      ]
     },
     "metadata": {},
     "output_type": "display_data"
    },
    {
     "data": {
      "image/png": "[encoded data removed]",
      "text/plain": [
       "<Figure size 500x300 with 2 Axes>"
      ]
     },
     "metadata": {},
     "output_type": "display_data"
    }
   ],
   "source": [
    "#построим график для каждого региона\n",
    "plot_correlation_matrix(phik_zero_overview.values, \n",
    "                        x_labels=phik_zero_overview.columns, \n",
    "                        y_labels=phik_zero_overview.index, \n",
    "                        vmin=0, vmax=1, color_map=\"Greens\", \n",
    "                        title=r\" ZERO_DATA correlation $\\phi_K$\", \n",
    "                        fontsize_factor=1.5, \n",
    "                        figsize=(5, 3))\n",
    "plt.tight_layout()\n",
    "plt.show\n",
    "\n",
    "plot_correlation_matrix(phik_first_overview.values, \n",
    "                        x_labels=phik_first_overview.columns, \n",
    "                        y_labels=phik_first_overview.index, \n",
    "                        vmin=0, vmax=1, color_map=\"Greens\", \n",
    "                        title=r\" FIRST_DATA correlation $\\phi_K$\", \n",
    "                        fontsize_factor=1.5, \n",
    "                        figsize=(5, 3))\n",
    "plt.tight_layout()\n",
    "plt.show\n",
    "\n",
    "plot_correlation_matrix(phik_second_overview.values, \n",
    "                        x_labels=phik_second_overview.columns, \n",
    "                        y_labels=phik_second_overview.index, \n",
    "                        vmin=0, vmax=1, color_map=\"Greens\", \n",
    "                        title=r\" SECOND_DATA correlation $\\phi_K$\", \n",
    "                        fontsize_factor=1.5, \n",
    "                        figsize=(5, 3))\n",
    "plt.tight_layout()\n",
    "plt.show"
   ]
  },
  {
   "cell_type": "markdown",
   "metadata": {},
   "source": [
    "Мы провели первичный обзор данных представленных нам для обучения модели. После обзора можно заметить критические моменты:\n",
    "- в данных присутствуют дубликаты \n",
    "- в данных есть столбец id, который нужно удалить, потому что он не явлется параметром, влияющем на количество нефти в скважине\n",
    "- в данных есть выбросы выбрасы нужно будет удалить в столбцах zero_data[f2], first_data[f0], first_data[f1], second_data[f2]\n",
    "- оценнивая зависимость можно сказать, что самым значимым признаком является f2, особенно в первом наборе корреляция почти равна единице. "
   ]
  },
  {
   "cell_type": "markdown",
   "metadata": {},
   "source": [
    "## Подготовка данных "
   ]
  },
  {
   "cell_type": "code",
   "execution_count": 13,
   "metadata": {},
   "outputs": [],
   "source": [
    "#удалим дубликаты, оставив только первый элемент, обновим индексы\n",
    "zero_data = zero_data.drop_duplicates(subset=['id'], keep=False).reset_index(drop = True)\n",
    "first_data = first_data.drop_duplicates(subset=['id'], keep=False).reset_index(drop = True)\n",
    "second_data = second_data.drop_duplicates(subset=['id'], keep=False).reset_index(drop = True)\n"
   ]
  },
  {
   "cell_type": "code",
   "execution_count": 14,
   "metadata": {
    "scrolled": true
   },
   "outputs": [],
   "source": [
    "#удалим столбец id\n",
    "zero_data = zero_data.drop('id', axis=1)\n",
    "first_data = first_data.drop('id', axis=1)\n",
    "second_data = second_data.drop('id', axis=1)    "
   ]
  },
  {
   "cell_type": "code",
   "execution_count": 15,
   "metadata": {},
   "outputs": [],
   "source": [
    "#создадим список индексов для удаления\n",
    "def remove_ouliers(frame,column):\n",
    "    q25=np.array(frame[column].quantile(0.25))\n",
    "    q75=np.array(frame[column].quantile(0.75))\n",
    "    first_part=q25-1.5*(q75-q25)\n",
    "    second_part=q75+1.5*(q75-q25)\n",
    "    del_index = []\n",
    "    for index_value, value in zip(frame[column].index,frame[column]):\n",
    "        if second_part <= value or value <= first_part:\n",
    "            del_index.append(index_value)\n",
    "    \n",
    "    print('Количество строк, выбранных для удаления: ',len(del_index))\n",
    "    return del_index"
   ]
  },
  {
   "cell_type": "code",
   "execution_count": 16,
   "metadata": {},
   "outputs": [
    {
     "name": "stdout",
     "output_type": "stream",
     "text": [
      "Количество строк, выбранных для удаления:  507\n",
      "Количество строк, выбранных для удаления:  1\n",
      "Количество строк, выбранных для удаления:  636\n",
      "Количество строк, выбранных для удаления:  584\n"
     ]
    }
   ],
   "source": [
    "noise_data = [(zero_data,\"f2\"),\n",
    " (first_data,\"f0\"),\n",
    " (first_data,\"f1\"),\n",
    " (second_data,\"f2\")]\n",
    "\n",
    "for frame,column in noise_data:\n",
    "    indexes = remove_ouliers(frame,column)\n",
    "    frame.drop(indexes,axis = 0,inplace = True)\n",
    "    frame.reset_index(drop = True,inplace = True)\n",
    "    "
   ]
  },
  {
   "cell_type": "code",
   "execution_count": 17,
   "metadata": {},
   "outputs": [],
   "source": [
    "#функция, разделяющая на выборки \n",
    "def train_valid(data, aim):\n",
    "    features = data.drop(aim, axis=1)\n",
    "    target = data[aim]\n",
    "    features_train, features_valid, target_train, target_valid = train_test_split(features, target,\n",
    "                                                                                  test_size=0.25, random_state=12345)\n",
    "    print('Признаки обучающей выборки:',features_train.shape) \n",
    "    print('Целевой признак обучающей выборки:', target_train.shape)\n",
    "    print('Признаки валидационной выборки:', features_valid.shape)\n",
    "    print('Целевой признак валидационной выборки:', target_valid.shape)\n",
    "    return features_train, features_valid, target_train, target_valid"
   ]
  },
  {
   "cell_type": "code",
   "execution_count": 18,
   "metadata": {},
   "outputs": [
    {
     "name": "stdout",
     "output_type": "stream",
     "text": [
      "Признаки обучающей выборки: (74604, 3)\n",
      "Целевой признак обучающей выборки: (74604,)\n",
      "Признаки валидационной выборки: (24869, 3)\n",
      "Целевой признак валидационной выборки: (24869,)\n",
      "=================\n",
      "|| TRAIN_VALID ||\n",
      "=================\n",
      "\n"
     ]
    },
    {
     "data": {
      "text/plain": [
       "(             f0        f1        f2\n",
       " 4030  -0.412885  0.761398  0.093558\n",
       " 34873  0.060034  0.137302  1.377366\n",
       " 39431  1.976324  0.219432  2.828037\n",
       " 67805  2.155170  0.092376 -1.914054\n",
       " 90935  0.178199  0.379353  5.058877\n",
       " ...         ...       ...       ...\n",
       " 4094  -0.133809  0.542004  2.263462\n",
       " 85412  2.032582  0.226442  3.092649\n",
       " 2177  -0.647050  0.632200  7.243556\n",
       " 77285  0.080439  0.257080  1.182331\n",
       " 86498  1.899840 -0.143561  8.665540\n",
       " \n",
       " [74604 rows x 3 columns],\n",
       "              f0        f1        f2\n",
       " 19118 -0.256971  1.056090  0.957636\n",
       " 7818  -0.323669  0.891629  6.591831\n",
       " 65780 -1.094818  0.156596  7.803310\n",
       " 48959 -0.188337  0.987211  3.531777\n",
       " 78342 -0.237434  0.980451  2.055371\n",
       " ...         ...       ...       ...\n",
       " 34399 -0.026198  0.321784  3.107687\n",
       " 31267  0.072927  1.031559  7.856663\n",
       " 83347  0.983327  0.286033  4.656728\n",
       " 24891 -0.108794  0.404565 -1.987726\n",
       " 2618   1.213605 -0.323582  4.013006\n",
       " \n",
       " [24869 rows x 3 columns],\n",
       " 4030     138.128679\n",
       " 34873     52.128403\n",
       " 39431    146.563496\n",
       " 67805     95.471336\n",
       " 90935     88.110816\n",
       "             ...    \n",
       " 4094      90.321300\n",
       " 85412    108.561060\n",
       " 2177      50.620240\n",
       " 77285    145.294959\n",
       " 86498    146.692072\n",
       " Name: product, Length: 74604, dtype: float64,\n",
       " 19118    141.382937\n",
       " 7818     130.350731\n",
       " 65780    155.020513\n",
       " 48959     84.376057\n",
       " 78342     53.781415\n",
       "             ...    \n",
       " 34399     62.736196\n",
       " 31267    161.796851\n",
       " 83347     87.860471\n",
       " 24891     55.901321\n",
       " 2618     106.036992\n",
       " Name: product, Length: 24869, dtype: float64)"
      ]
     },
     "metadata": {},
     "output_type": "display_data"
    },
    {
     "name": "stdout",
     "output_type": "stream",
     "text": [
      "\n"
     ]
    }
   ],
   "source": [
    "display_info(True, train_valid = {'':train_valid(zero_data, 'product')})"
   ]
  },
  {
   "cell_type": "markdown",
   "metadata": {},
   "source": [
    "удалили дубликаты, выбросы и лишний столбец. Создали функцию для разделения на выборки, провели ее тест. "
   ]
  },
  {
   "cell_type": "markdown",
   "metadata": {},
   "source": [
    "## Обучение и проверка модели"
   ]
  },
  {
   "cell_type": "code",
   "execution_count": 19,
   "metadata": {},
   "outputs": [],
   "source": [
    "#создадим функцию, которая будет считать начения mse**0.5, r2 и обучать линейную регрессию\n",
    "\n",
    "def test_mod(data, aim):\n",
    "    \n",
    "    features_train, features_valid, target_train, target_valid = train_valid(data, aim)\n",
    "    \n",
    "    #создадим, обучим, получим значения mse**0.5, r2 для модели LinearRegression\n",
    "    \n",
    "    lr_model = make_pipeline(StandardScaler(),LinearRegression())\n",
    "    lr_model = lr_model.fit(features_train, target_train) \n",
    "    \n",
    "    mod_prediction = lr_model.predict(features_valid)\n",
    "    \n",
    "    mse = mean_squared_error(target_valid, mod_prediction)\n",
    "    r2 = r2_score(target_valid, mod_prediction)\n",
    "    prod_mean = mod_prediction.mean()\n",
    "    \n",
    "    \n",
    "    new_df = data.iloc[features_valid.index].reset_index(drop = True)\n",
    "    new_df['pred'] = mod_prediction\n",
    "    \n",
    "    print()\n",
    "    print(59*'# ')\n",
    "    print(' '*(60-len('метрики для модели')),'метрики для модели'.upper())\n",
    "    print(59*'# ')\n",
    "    print()\n",
    "    \n",
    "    print('Корень из средней квадратичной ошибки для данной модели:', mse**0.5)\n",
    "    \n",
    "    print('Коэффициент детерминации для данной модели:', r2)\n",
    "    \n",
    "    print('В среднем для каждой скважины, из предсказаний модели, обём составляет:', prod_mean)\n",
    "    \n",
    "    return lr_model, new_df"
   ]
  },
  {
   "cell_type": "code",
   "execution_count": 20,
   "metadata": {
    "scrolled": true
   },
   "outputs": [
    {
     "name": "stdout",
     "output_type": "stream",
     "text": [
      "Признаки обучающей выборки: (74604, 3)\n",
      "Целевой признак обучающей выборки: (74604,)\n",
      "Признаки валидационной выборки: (24869, 3)\n",
      "Целевой признак валидационной выборки: (24869,)\n",
      "\n",
      "# # # # # # # # # # # # # # # # # # # # # # # # # # # # # # # # # # # # # # # # # # # # # # # # # # # # # # # # # # # \n",
      "                                           МЕТРИКИ ДЛЯ МОДЕЛИ\n",
      "# # # # # # # # # # # # # # # # # # # # # # # # # # # # # # # # # # # # # # # # # # # # # # # # # # # # # # # # # # # \n",
      "\n",
      "Корень из средней квадратичной ошибки для данной модели: 37.723754923964115\n",
      "Коэффициент детерминации для данной модели: 0.2745428314315571\n",
      "В среднем для каждой скважины, из предсказаний модели, обём составляет: 92.59323413054406\n"
     ]
    }
   ],
   "source": [
    "lr_model_zero, zero_data_valid = test_mod(zero_data, 'product')\n"
   ]
  },
  {
   "cell_type": "code",
   "execution_count": 21,
   "metadata": {},
   "outputs": [
    {
     "name": "stdout",
     "output_type": "stream",
     "text": [
      "Признаки обучающей выборки: (74516, 3)\n",
      "Целевой признак обучающей выборки: (74516,)\n",
      "Признаки валидационной выборки: (24839, 3)\n",
      "Целевой признак валидационной выборки: (24839,)\n",
      "\n",
      "# # # # # # # # # # # # # # # # # # # # # # # # # # # # # # # # # # # # # # # # # # # # # # # # # # # # # # # # # # # \n",
      "                                           МЕТРИКИ ДЛЯ МОДЕЛИ\n",
      "# # # # # # # # # # # # # # # # # # # # # # # # # # # # # # # # # # # # # # # # # # # # # # # # # # # # # # # # # # # \n",
      "\n",
      "Корень из средней квадратичной ошибки для данной модели: 0.8892698446231949\n",
      "Коэффициент детерминации для данной модели: 0.9996259917954178\n",
      "В среднем для каждой скважины, из предсказаний модели, обём составляет: 68.6386802421195\n"
     ]
    }
   ],
   "source": [
    "lr_model_first, first_data_valid = test_mod(first_data, 'product')\n"
   ]
  },
  {
   "cell_type": "code",
   "execution_count": 22,
   "metadata": {
    "scrolled": true
   },
   "outputs": [
    {
     "name": "stdout",
     "output_type": "stream",
     "text": [
      "Признаки обучающей выборки: (74556, 3)\n",
      "Целевой признак обучающей выборки: (74556,)\n",
      "Признаки валидационной выборки: (24852, 3)\n",
      "Целевой признак валидационной выборки: (24852,)\n",
      "\n",
      "# # # # # # # # # # # # # # # # # # # # # # # # # # # # # # # # # # # # # # # # # # # # # # # # # # # # # # # # # # # \n",
      "                                           МЕТРИКИ ДЛЯ МОДЕЛИ\n",
      "# # # # # # # # # # # # # # # # # # # # # # # # # # # # # # # # # # # # # # # # # # # # # # # # # # # # # # # # # # # \n",
      "\n",
      "Корень из средней квадратичной ошибки для данной модели: 40.17879422114336\n",
      "Коэффициент детерминации для данной модели: 0.19103051419177086\n",
      "В среднем для каждой скважины, из предсказаний модели, обём составляет: 95.2178456606533\n"
     ]
    }
   ],
   "source": [
    "lr_model_second, second_data_valid = test_mod(second_data, 'product')"
   ]
  },
  {
   "cell_type": "code",
   "execution_count": 23,
   "metadata": {},
   "outputs": [
    {
     "name": "stdout",
     "output_type": "stream",
     "text": [
      "================\n",
      "|| ZERO_FRAME ||\n",
      "================\n",
      "\n"
     ]
    },
    {
     "data": {
      "text/html": [
       "<div>\n",
       "<style scoped>\n",
       "    .dataframe tbody tr th:only-of-type {\n",
       "        vertical-align: middle;\n",
       "    }\n",
       "\n",
       "    .dataframe tbody tr th {\n",
       "        vertical-align: top;\n",
       "    }\n",
       "\n",
       "    .dataframe thead th {\n",
       "        text-align: right;\n",
       "    }\n",
       "</style>\n",
       "<table border=\"1\" class=\"dataframe\">\n",
       "  <thead>\n",
       "    <tr style=\"text-align: right;\">\n",
       "      <th></th>\n",
       "      <th>f0</th>\n",
       "      <th>f1</th>\n",
       "      <th>f2</th>\n",
       "      <th>product</th>\n",
       "      <th>pred</th>\n",
       "    </tr>\n",
       "  </thead>\n",
       "  <tbody>\n",
       "    <tr>\n",
       "      <th>0</th>\n",
       "      <td>-0.256971</td>\n",
       "      <td>1.056090</td>\n",
       "      <td>0.957636</td>\n",
       "      <td>141.382937</td>\n",
       "      <td>68.230916</td>\n",
       "    </tr>\n",
       "    <tr>\n",
       "      <th>1</th>\n",
       "      <td>-0.323669</td>\n",
       "      <td>0.891629</td>\n",
       "      <td>6.591831</td>\n",
       "      <td>130.350731</td>\n",
       "      <td>108.015026</td>\n",
       "    </tr>\n",
       "    <tr>\n",
       "      <th>2</th>\n",
       "      <td>-1.094818</td>\n",
       "      <td>0.156596</td>\n",
       "      <td>7.803310</td>\n",
       "      <td>155.020513</td>\n",
       "      <td>123.630291</td>\n",
       "    </tr>\n",
       "    <tr>\n",
       "      <th>3</th>\n",
       "      <td>-0.188337</td>\n",
       "      <td>0.987211</td>\n",
       "      <td>3.531777</td>\n",
       "      <td>84.376057</td>\n",
       "      <td>86.680871</td>\n",
       "    </tr>\n",
       "    <tr>\n",
       "      <th>4</th>\n",
       "      <td>-0.237434</td>\n",
       "      <td>0.980451</td>\n",
       "      <td>2.055371</td>\n",
       "      <td>53.781415</td>\n",
       "      <td>76.712712</td>\n",
       "    </tr>\n",
       "  </tbody>\n",
       "</table>\n",
       "</div>"
      ],
      "text/plain": [
       "         f0        f1        f2     product        pred\n",
       "0 -0.256971  1.056090  0.957636  141.382937   68.230916\n",
       "1 -0.323669  0.891629  6.591831  130.350731  108.015026\n",
       "2 -1.094818  0.156596  7.803310  155.020513  123.630291\n",
       "3 -0.188337  0.987211  3.531777   84.376057   86.680871\n",
       "4 -0.237434  0.980451  2.055371   53.781415   76.712712"
      ]
     },
     "metadata": {},
     "output_type": "display_data"
    },
    {
     "name": "stdout",
     "output_type": "stream",
     "text": [
      "\n",
      "=================\n",
      "|| FIRST_FRAME ||\n",
      "=================\n",
      "\n"
     ]
    },
    {
     "data": {
      "text/html": [
       "<div>\n",
       "<style scoped>\n",
       "    .dataframe tbody tr th:only-of-type {\n",
       "        vertical-align: middle;\n",
       "    }\n",
       "\n",
       "    .dataframe tbody tr th {\n",
       "        vertical-align: top;\n",
       "    }\n",
       "\n",
       "    .dataframe thead th {\n",
       "        text-align: right;\n",
       "    }\n",
       "</style>\n",
       "<table border=\"1\" class=\"dataframe\">\n",
       "  <thead>\n",
       "    <tr style=\"text-align: right;\">\n",
       "      <th></th>\n",
       "      <th>f0</th>\n",
       "      <th>f1</th>\n",
       "      <th>f2</th>\n",
       "      <th>product</th>\n",
       "      <th>pred</th>\n",
       "    </tr>\n",
       "  </thead>\n",
       "  <tbody>\n",
       "    <tr>\n",
       "      <th>0</th>\n",
       "      <td>-12.650773</td>\n",
       "      <td>-5.227895</td>\n",
       "      <td>0.993941</td>\n",
       "      <td>30.132364</td>\n",
       "      <td>30.396429</td>\n",
       "    </tr>\n",
       "    <tr>\n",
       "      <th>1</th>\n",
       "      <td>-2.577407</td>\n",
       "      <td>-11.120784</td>\n",
       "      <td>3.004238</td>\n",
       "      <td>84.038886</td>\n",
       "      <td>83.239533</td>\n",
       "    </tr>\n",
       "    <tr>\n",
       "      <th>2</th>\n",
       "      <td>-6.096421</td>\n",
       "      <td>-9.147040</td>\n",
       "      <td>3.004817</td>\n",
       "      <td>84.038886</td>\n",
       "      <td>83.722156</td>\n",
       "    </tr>\n",
       "    <tr>\n",
       "      <th>3</th>\n",
       "      <td>-11.798152</td>\n",
       "      <td>-6.792239</td>\n",
       "      <td>0.001267</td>\n",
       "      <td>3.179103</td>\n",
       "      <td>3.555845</td>\n",
       "    </tr>\n",
       "    <tr>\n",
       "      <th>4</th>\n",
       "      <td>6.002188</td>\n",
       "      <td>-5.654493</td>\n",
       "      <td>-0.002992</td>\n",
       "      <td>0.000000</td>\n",
       "      <td>0.835215</td>\n",
       "    </tr>\n",
       "  </tbody>\n",
       "</table>\n",
       "</div>"
      ],
      "text/plain": [
       "          f0         f1        f2    product       pred\n",
       "0 -12.650773  -5.227895  0.993941  30.132364  30.396429\n",
       "1  -2.577407 -11.120784  3.004238  84.038886  83.239533\n",
       "2  -6.096421  -9.147040  3.004817  84.038886  83.722156\n",
       "3 -11.798152  -6.792239  0.001267   3.179103   3.555845\n",
       "4   6.002188  -5.654493 -0.002992   0.000000   0.835215"
      ]
     },
     "metadata": {},
     "output_type": "display_data"
    },
    {
     "name": "stdout",
     "output_type": "stream",
     "text": [
      "\n",
      "==================\n",
      "|| SECOND_FRAME ||\n",
      "==================\n",
      "\n"
     ]
    },
    {
     "data": {
      "text/html": [
       "<div>\n",
       "<style scoped>\n",
       "    .dataframe tbody tr th:only-of-type {\n",
       "        vertical-align: middle;\n",
       "    }\n",
       "\n",
       "    .dataframe tbody tr th {\n",
       "        vertical-align: top;\n",
       "    }\n",
       "\n",
       "    .dataframe thead th {\n",
       "        text-align: right;\n",
       "    }\n",
       "</style>\n",
       "<table border=\"1\" class=\"dataframe\">\n",
       "  <thead>\n",
       "    <tr style=\"text-align: right;\">\n",
       "      <th></th>\n",
       "      <th>f0</th>\n",
       "      <th>f1</th>\n",
       "      <th>f2</th>\n",
       "      <th>product</th>\n",
       "      <th>pred</th>\n",
       "    </tr>\n",
       "  </thead>\n",
       "  <tbody>\n",
       "    <tr>\n",
       "      <th>0</th>\n",
       "      <td>-0.662662</td>\n",
       "      <td>1.493072</td>\n",
       "      <td>6.262971</td>\n",
       "      <td>49.376599</td>\n",
       "      <td>117.121549</td>\n",
       "    </tr>\n",
       "    <tr>\n",
       "      <th>1</th>\n",
       "      <td>-0.760836</td>\n",
       "      <td>0.758838</td>\n",
       "      <td>3.163536</td>\n",
       "      <td>109.630807</td>\n",
       "      <td>99.007337</td>\n",
       "    </tr>\n",
       "    <tr>\n",
       "      <th>2</th>\n",
       "      <td>1.019207</td>\n",
       "      <td>-1.802514</td>\n",
       "      <td>0.877059</td>\n",
       "      <td>53.080856</td>\n",
       "      <td>85.417322</td>\n",
       "    </tr>\n",
       "    <tr>\n",
       "      <th>3</th>\n",
       "      <td>-2.494724</td>\n",
       "      <td>-2.988781</td>\n",
       "      <td>8.163940</td>\n",
       "      <td>106.412185</td>\n",
       "      <td>128.397080</td>\n",
       "    </tr>\n",
       "    <tr>\n",
       "      <th>4</th>\n",
       "      <td>-2.057819</td>\n",
       "      <td>-2.228968</td>\n",
       "      <td>1.792222</td>\n",
       "      <td>130.451928</td>\n",
       "      <td>91.108312</td>\n",
       "    </tr>\n",
       "  </tbody>\n",
       "</table>\n",
       "</div>"
      ],
      "text/plain": [
       "         f0        f1        f2     product        pred\n",
       "0 -0.662662  1.493072  6.262971   49.376599  117.121549\n",
       "1 -0.760836  0.758838  3.163536  109.630807   99.007337\n",
       "2  1.019207 -1.802514  0.877059   53.080856   85.417322\n",
       "3 -2.494724 -2.988781  8.163940  106.412185  128.397080\n",
       "4 -2.057819 -2.228968  1.792222  130.451928   91.108312"
      ]
     },
     "metadata": {},
     "output_type": "display_data"
    },
    {
     "name": "stdout",
     "output_type": "stream",
     "text": [
      "\n"
     ]
    }
   ],
   "source": [
    "display_info(True,\n",
    "             Zero_Frame = {'':zero_data_valid.head()},\n",
    "             First_Frame = {'':first_data_valid.head()},\n",
    "             Second_Frame = {'':second_data_valid.head()})"
   ]
  },
  {
   "cell_type": "markdown",
   "metadata": {},
   "source": [
    "Моедли обучились и точность их предсказаний страдает, что показывает коэффициент детерминации. Данный коэффициент должен стремится к единице, а вот значение в 0.27 - это очень плохо. Так же модель ошибается в среднем на 37 тыс. баррелей, что составляет почти половину от прогноза. Все Предсказания мы сохранили в новый датафрейм, этот датафрейм состоит только из валидационной выборки"
   ]
  },
  {
   "cell_type": "markdown",
   "metadata": {},
   "source": [
    "## Подготовка к расчёту прибыли"
   ]
  },
  {
   "cell_type": "code",
   "execution_count": 24,
   "metadata": {
    "scrolled": false
   },
   "outputs": [
    {
     "name": "stdout",
     "output_type": "stream",
     "text": [
      "Достаточный объем добычи с одной скважины для безубыточной разработки 111.11\n"
     ]
    }
   ],
   "source": [
    "BUDGET = 10**10\n",
    "PPB = 450000\n",
    "POINTS = 500\n",
    "FIN_POINTS = 200\n",
    "TRESHOLD = 0.025\n",
    "non_damage_point = (BUDGET/PPB/FIN_POINTS)\n",
    "print(\"Достаточный объем добычи с одной скважины для безубыточной разработки\",round(non_damage_point,2))"
   ]
  },
  {
   "cell_type": "code",
   "execution_count": 25,
   "metadata": {
    "scrolled": false
   },
   "outputs": [
    {
     "name": "stdout",
     "output_type": "stream",
     "text": [
      "================\n",
      "|| ZERO_FRAME ||\n",
      "================\n",
      "\n"
     ]
    },
    {
     "data": {
      "text/html": [
       "<div>\n",
       "<style scoped>\n",
       "    .dataframe tbody tr th:only-of-type {\n",
       "        vertical-align: middle;\n",
       "    }\n",
       "\n",
       "    .dataframe tbody tr th {\n",
       "        vertical-align: top;\n",
       "    }\n",
       "\n",
       "    .dataframe thead th {\n",
       "        text-align: right;\n",
       "    }\n",
       "</style>\n",
       "<table border=\"1\" class=\"dataframe\">\n",
       "  <thead>\n",
       "    <tr style=\"text-align: right;\">\n",
       "      <th></th>\n",
       "      <th>f0</th>\n",
       "      <th>f1</th>\n",
       "      <th>f2</th>\n",
       "      <th>product</th>\n",
       "      <th>pred</th>\n",
       "    </tr>\n",
       "  </thead>\n",
       "  <tbody>\n",
       "    <tr>\n",
       "      <th>count</th>\n",
       "      <td>24869.000000</td>\n",
       "      <td>24869.000000</td>\n",
       "      <td>24869.000000</td>\n",
       "      <td>24869.000000</td>\n",
       "      <td>24869.000000</td>\n",
       "    </tr>\n",
       "    <tr>\n",
       "      <th>mean</th>\n",
       "      <td>0.499245</td>\n",
       "      <td>0.250260</td>\n",
       "      <td>2.495486</td>\n",
       "      <td>91.977742</td>\n",
       "      <td>92.593234</td>\n",
       "    </tr>\n",
       "    <tr>\n",
       "      <th>std</th>\n",
       "      <td>0.869735</td>\n",
       "      <td>0.504675</td>\n",
       "      <td>3.193817</td>\n",
       "      <td>44.291232</td>\n",
       "      <td>23.220214</td>\n",
       "    </tr>\n",
       "    <tr>\n",
       "      <th>min</th>\n",
       "      <td>-1.275033</td>\n",
       "      <td>-0.817951</td>\n",
       "      <td>-6.349353</td>\n",
       "      <td>0.000000</td>\n",
       "      <td>20.383896</td>\n",
       "    </tr>\n",
       "    <tr>\n",
       "      <th>25%</th>\n",
       "      <td>-0.073593</td>\n",
       "      <td>-0.201654</td>\n",
       "      <td>0.277132</td>\n",
       "      <td>55.941578</td>\n",
       "      <td>76.533244</td>\n",
       "    </tr>\n",
       "    <tr>\n",
       "      <th>50%</th>\n",
       "      <td>0.503825</td>\n",
       "      <td>0.249299</td>\n",
       "      <td>2.499921</td>\n",
       "      <td>90.406268</td>\n",
       "      <td>92.674816</td>\n",
       "    </tr>\n",
       "    <tr>\n",
       "      <th>75%</th>\n",
       "      <td>1.066065</td>\n",
       "      <td>0.699426</td>\n",
       "      <td>4.703096</td>\n",
       "      <td>127.954642</td>\n",
       "      <td>108.721576</td>\n",
       "    </tr>\n",
       "    <tr>\n",
       "      <th>max</th>\n",
       "      <td>2.266803</td>\n",
       "      <td>1.343769</td>\n",
       "      <td>11.348775</td>\n",
       "      <td>185.364347</td>\n",
       "      <td>165.764081</td>\n",
       "    </tr>\n",
       "  </tbody>\n",
       "</table>\n",
       "</div>"
      ],
      "text/plain": [
       "                 f0            f1            f2       product          pred\n",
       "count  24869.000000  24869.000000  24869.000000  24869.000000  24869.000000\n",
       "mean       0.499245      0.250260      2.495486     91.977742     92.593234\n",
       "std        0.869735      0.504675      3.193817     44.291232     23.220214\n",
       "min       -1.275033     -0.817951     -6.349353      0.000000     20.383896\n",
       "25%       -0.073593     -0.201654      0.277132     55.941578     76.533244\n",
       "50%        0.503825      0.249299      2.499921     90.406268     92.674816\n",
       "75%        1.066065      0.699426      4.703096    127.954642    108.721576\n",
       "max        2.266803      1.343769     11.348775    185.364347    165.764081"
      ]
     },
     "metadata": {},
     "output_type": "display_data"
    },
    {
     "name": "stdout",
     "output_type": "stream",
     "text": [
      "\n",
      "=================\n",
      "|| FIRST_FRAME ||\n",
      "=================\n",
      "\n"
     ]
    },
    {
     "data": {
      "text/html": [
       "<div>\n",
       "<style scoped>\n",
       "    .dataframe tbody tr th:only-of-type {\n",
       "        vertical-align: middle;\n",
       "    }\n",
       "\n",
       "    .dataframe tbody tr th {\n",
       "        vertical-align: top;\n",
       "    }\n",
       "\n",
       "    .dataframe thead th {\n",
       "        text-align: right;\n",
       "    }\n",
       "</style>\n",
       "<table border=\"1\" class=\"dataframe\">\n",
       "  <thead>\n",
       "    <tr style=\"text-align: right;\">\n",
       "      <th></th>\n",
       "      <th>f0</th>\n",
       "      <th>f1</th>\n",
       "      <th>f2</th>\n",
       "      <th>product</th>\n",
       "      <th>pred</th>\n",
       "    </tr>\n",
       "  </thead>\n",
       "  <tbody>\n",
       "    <tr>\n",
       "      <th>count</th>\n",
       "      <td>24839.000000</td>\n",
       "      <td>24839.000000</td>\n",
       "      <td>24839.000000</td>\n",
       "      <td>24839.000000</td>\n",
       "      <td>24839.000000</td>\n",
       "    </tr>\n",
       "    <tr>\n",
       "      <th>mean</th>\n",
       "      <td>1.173186</td>\n",
       "      <td>-4.837228</td>\n",
       "      <td>2.487718</td>\n",
       "      <td>68.634225</td>\n",
       "      <td>68.638680</td>\n",
       "    </tr>\n",
       "    <tr>\n",
       "      <th>std</th>\n",
       "      <td>8.970845</td>\n",
       "      <td>4.990973</td>\n",
       "      <td>1.704049</td>\n",
       "      <td>45.983470</td>\n",
       "      <td>45.955712</td>\n",
       "    </tr>\n",
       "    <tr>\n",
       "      <th>min</th>\n",
       "      <td>-24.950386</td>\n",
       "      <td>-18.626037</td>\n",
       "      <td>-0.017686</td>\n",
       "      <td>0.000000</td>\n",
       "      <td>-2.057086</td>\n",
       "    </tr>\n",
       "    <tr>\n",
       "      <th>25%</th>\n",
       "      <td>-6.313843</td>\n",
       "      <td>-8.295295</td>\n",
       "      <td>1.000058</td>\n",
       "      <td>26.953261</td>\n",
       "      <td>28.508284</td>\n",
       "    </tr>\n",
       "    <tr>\n",
       "      <th>50%</th>\n",
       "      <td>1.239410</td>\n",
       "      <td>-4.907532</td>\n",
       "      <td>2.009208</td>\n",
       "      <td>57.085625</td>\n",
       "      <td>57.690238</td>\n",
       "    </tr>\n",
       "    <tr>\n",
       "      <th>75%</th>\n",
       "      <td>8.634621</td>\n",
       "      <td>-1.406420</td>\n",
       "      <td>3.999930</td>\n",
       "      <td>107.813044</td>\n",
       "      <td>109.310126</td>\n",
       "    </tr>\n",
       "    <tr>\n",
       "      <th>max</th>\n",
       "      <td>28.400992</td>\n",
       "      <td>9.050688</td>\n",
       "      <td>5.016804</td>\n",
       "      <td>137.945408</td>\n",
       "      <td>139.978243</td>\n",
       "    </tr>\n",
       "  </tbody>\n",
       "</table>\n",
       "</div>"
      ],
      "text/plain": [
       "                 f0            f1            f2       product          pred\n",
       "count  24839.000000  24839.000000  24839.000000  24839.000000  24839.000000\n",
       "mean       1.173186     -4.837228      2.487718     68.634225     68.638680\n",
       "std        8.970845      4.990973      1.704049     45.983470     45.955712\n",
       "min      -24.950386    -18.626037     -0.017686      0.000000     -2.057086\n",
       "25%       -6.313843     -8.295295      1.000058     26.953261     28.508284\n",
       "50%        1.239410     -4.907532      2.009208     57.085625     57.690238\n",
       "75%        8.634621     -1.406420      3.999930    107.813044    109.310126\n",
       "max       28.400992      9.050688      5.016804    137.945408    139.978243"
      ]
     },
     "metadata": {},
     "output_type": "display_data"
    },
    {
     "name": "stdout",
     "output_type": "stream",
     "text": [
      "\n",
      "==================\n",
      "|| SECOND_FRAME ||\n",
      "==================\n",
      "\n"
     ]
    },
    {
     "data": {
      "text/html": [
       "<div>\n",
       "<style scoped>\n",
       "    .dataframe tbody tr th:only-of-type {\n",
       "        vertical-align: middle;\n",
       "    }\n",
       "\n",
       "    .dataframe tbody tr th {\n",
       "        vertical-align: top;\n",
       "    }\n",
       "\n",
       "    .dataframe thead th {\n",
       "        text-align: right;\n",
       "    }\n",
       "</style>\n",
       "<table border=\"1\" class=\"dataframe\">\n",
       "  <thead>\n",
       "    <tr style=\"text-align: right;\">\n",
       "      <th></th>\n",
       "      <th>f0</th>\n",
       "      <th>f1</th>\n",
       "      <th>f2</th>\n",
       "      <th>product</th>\n",
       "      <th>pred</th>\n",
       "    </tr>\n",
       "  </thead>\n",
       "  <tbody>\n",
       "    <tr>\n",
       "      <th>count</th>\n",
       "      <td>24852.000000</td>\n",
       "      <td>24852.000000</td>\n",
       "      <td>24852.000000</td>\n",
       "      <td>24852.000000</td>\n",
       "      <td>24852.000000</td>\n",
       "    </tr>\n",
       "    <tr>\n",
       "      <th>mean</th>\n",
       "      <td>0.009889</td>\n",
       "      <td>-0.003718</td>\n",
       "      <td>2.531312</td>\n",
       "      <td>95.230974</td>\n",
       "      <td>95.217846</td>\n",
       "    </tr>\n",
       "    <tr>\n",
       "      <th>std</th>\n",
       "      <td>1.738661</td>\n",
       "      <td>1.729908</td>\n",
       "      <td>3.400262</td>\n",
       "      <td>44.672429</td>\n",
       "      <td>19.877477</td>\n",
       "    </tr>\n",
       "    <tr>\n",
       "      <th>min</th>\n",
       "      <td>-7.450587</td>\n",
       "      <td>-7.084020</td>\n",
       "      <td>-6.944602</td>\n",
       "      <td>0.028097</td>\n",
       "      <td>39.578832</td>\n",
       "    </tr>\n",
       "    <tr>\n",
       "      <th>25%</th>\n",
       "      <td>-1.167196</td>\n",
       "      <td>-1.170884</td>\n",
       "      <td>0.164506</td>\n",
       "      <td>59.662084</td>\n",
       "      <td>81.398780</td>\n",
       "    </tr>\n",
       "    <tr>\n",
       "      <th>50%</th>\n",
       "      <td>0.017772</td>\n",
       "      <td>-0.003243</td>\n",
       "      <td>2.508283</td>\n",
       "      <td>95.186625</td>\n",
       "      <td>95.097082</td>\n",
       "    </tr>\n",
       "    <tr>\n",
       "      <th>75%</th>\n",
       "      <td>1.165098</td>\n",
       "      <td>1.163400</td>\n",
       "      <td>4.886646</td>\n",
       "      <td>131.022577</td>\n",
       "      <td>108.971671</td>\n",
       "    </tr>\n",
       "    <tr>\n",
       "      <th>max</th>\n",
       "      <td>7.238262</td>\n",
       "      <td>7.101618</td>\n",
       "      <td>11.945919</td>\n",
       "      <td>190.011722</td>\n",
       "      <td>150.354264</td>\n",
       "    </tr>\n",
       "  </tbody>\n",
       "</table>\n",
       "</div>"
      ],
      "text/plain": [
       "                 f0            f1            f2       product          pred\n",
       "count  24852.000000  24852.000000  24852.000000  24852.000000  24852.000000\n",
       "mean       0.009889     -0.003718      2.531312     95.230974     95.217846\n",
       "std        1.738661      1.729908      3.400262     44.672429     19.877477\n",
       "min       -7.450587     -7.084020     -6.944602      0.028097     39.578832\n",
       "25%       -1.167196     -1.170884      0.164506     59.662084     81.398780\n",
       "50%        0.017772     -0.003243      2.508283     95.186625     95.097082\n",
       "75%        1.165098      1.163400      4.886646    131.022577    108.971671\n",
       "max        7.238262      7.101618     11.945919    190.011722    150.354264"
      ]
     },
     "metadata": {},
     "output_type": "display_data"
    },
    {
     "name": "stdout",
     "output_type": "stream",
     "text": [
      "\n"
     ]
    }
   ],
   "source": [
    "display_info(True,\n",
    "             Zero_Frame = {'':zero_data_valid.describe()},\n",
    "             First_Frame = {'':first_data_valid.describe()},\n",
    "             Second_Frame = {'':second_data_valid.describe()})"
   ]
  },
  {
   "cell_type": "markdown",
   "metadata": {},
   "source": [
    "Сравнивая средние запасы в каждом регионе можно сказать, что они все ниже точки безубыточности, но 3q  больше, поэтому эти регионы можно использовать для разработки "
   ]
  },
  {
   "cell_type": "markdown",
   "metadata": {},
   "source": [
    "## Расчёт прибыли и рисков "
   ]
  },
  {
   "cell_type": "code",
   "execution_count": 26,
   "metadata": {},
   "outputs": [],
   "source": [
    "def top_200(prediction, target, ppb):\n",
    "\n",
    "    top_points = prediction.sort_values(ascending=False).head(200).index\n",
    "    production = target.iloc[top_points].sum()\n",
    "    income = production * PPD\n",
    "    \n",
    "    return income"
   ]
  },
  {
   "cell_type": "code",
   "execution_count": 27,
   "metadata": {},
   "outputs": [],
   "source": [
    "state = RandomState(12345) "
   ]
  },
  {
   "cell_type": "code",
   "execution_count": 28,
   "metadata": {},
   "outputs": [],
   "source": [
    "\n",
    "def income(true_target, pred_target):\n",
    "    sort_Series = pd.Series(pred_target).sort_values(ascending=False)[:200]\n",
    "    true_target_sort = (true_target\n",
    "                         .reset_index(drop = True)[sort_Series.index])\n",
    "    sum_true = true_target_sort.sum()\n",
    "    inc = ((sum_true * PPB)-BUDGET)/10**6\n",
    "    \n",
    "    return round(inc,2)"
   ]
  },
  {
   "cell_type": "code",
   "execution_count": 29,
   "metadata": {},
   "outputs": [
    {
     "name": "stdout",
     "output_type": "stream",
     "text": [
      "=================\n",
      "|| ZERO_REGION ||\n",
      "=================\n",
      "\n",
      "Прибыль по 200 скважинам млн: 3267.96\n",
      "\n",
      "==================\n",
      "|| FIRST_REGION ||\n",
      "==================\n",
      "\n",
      "Прибыль по 200 скважинам млн: 2415.09\n",
      "\n",
      "===================\n",
      "|| SECOND_REGION ||\n",
      "===================\n",
      "\n",
      "Прибыль по 200 скважинам млн: 2457.21\n",
      "\n"
     ]
    }
   ],
   "source": [
    "display_info(False, Zero_region = {'Прибыль по 200 скважинам млн:':income(zero_data_valid['product'], zero_data_valid['pred'])},\n",
    "             First_region = {'Прибыль по 200 скважинам млн:':income(first_data_valid['product'], first_data_valid['pred'])},\n",
    "             Second_region = {'Прибыль по 200 скважинам млн:':income(second_data_valid['product'], second_data_valid['pred'])})\n",
    "    "
   ]
  },
  {
   "cell_type": "code",
   "execution_count": 30,
   "metadata": {},
   "outputs": [],
   "source": [
    "def confidence_interval(true_target,pred_target):\n",
    "    samples = []\n",
    "    for i in tqdm.tqdm(range(1000)):\n",
    "        sample = pd.Series(pred_target).sample(n = 500, replace=True, random_state=state)\n",
    "        samples.append(income(true_target,sample))\n",
    "    samples = pd.Series(samples)\n",
    "    print(samples.mean())\n",
    "    print(samples.apply(lambda x: x < 0).sum()/len(samples)*100,\"%\")\n",
    "    \n",
    "    lower = samples.quantile(0.025)\n",
    "    upper = samples.quantile(0.975)\n",
    "    return round(lower,2), round(upper,2)"
   ]
  },
  {
   "cell_type": "code",
   "execution_count": 31,
   "metadata": {
    "scrolled": true
   },
   "outputs": [
    {
     "name": "stdout",
     "output_type": "stream",
     "text": [
      "Прибыль в млн рублей:\n"
     ]
    },
    {
     "name": "stderr",
     "output_type": "stream",
     "text": [
      "100%|█████████████████████████████████████| 1000/1000 [00:00<00:00, 2431.58it/s]\n"
     ]
    },
    {
     "name": "stdout",
     "output_type": "stream",
     "text": [
      "378.29803000000027\n",
      "7.1 %\n",
      "95% доверительный итервал для Нулевового региона лежит между: (-106.77, 852.19)\n",
      "\n",
      "Прибыль в млн рублей:\n"
     ]
    },
    {
     "name": "stderr",
     "output_type": "stream",
     "text": [
      "100%|█████████████████████████████████████| 1000/1000 [00:00<00:00, 2724.55it/s]\n"
     ]
    },
    {
     "name": "stdout",
     "output_type": "stream",
     "text": [
      "437.9227299999999\n",
      "1.4000000000000001 %\n",
      "95% Доверительный итервал для Второго региона лежит между: (53.79, 849.43)\n",
      "\n",
      "Прибыль в млн рублей:\n"
     ]
    },
    {
     "name": "stderr",
     "output_type": "stream",
     "text": [
      "100%|█████████████████████████████████████| 1000/1000 [00:00<00:00, 2725.23it/s]"
     ]
    },
    {
     "name": "stdout",
     "output_type": "stream",
     "text": [
      "361.79733000000016\n",
      "9.5 %\n",
      "95% Доверительный итервал для Первого  региона лежит между: (-200.31, 869.46)\n"
     ]
    },
    {
     "name": "stderr",
     "output_type": "stream",
     "text": [
      "\n"
     ]
    }
   ],
   "source": [
    "print('Прибыль в млн рублей:')\n",
    "print(\"95% доверительный итервал для Нулевового региона лежит между:\",\n",
    "      confidence_interval( zero_data_valid['product'], zero_data_valid['pred']))\n",
    "print()\n",
    "print('Прибыль в млн рублей:')\n",
    "print(\"95% Доверительный итервал для Второго региона лежит между:\",\n",
    "      confidence_interval(first_data_valid['product'], first_data_valid['pred']))\n",
    "print()\n",
    "print('Прибыль в млн рублей:')\n",
    "print(\"95% Доверительный итервал для Первого  региона лежит между:\",\n",
    "      confidence_interval(second_data_valid['product'], second_data_valid['pred']))"
   ]
  },
  {
   "cell_type": "markdown",
   "metadata": {},
   "source": [
    "В данном раздели создали две функции для подсчета прибыли и доверительного интервала. После чего использовали их для трех регионов. \n",
    "Единственный регион, который нам подходит - это первый регион. Потому что риски тут ниже нашего порога."
   ]
  },
  {
   "cell_type": "markdown",
   "metadata": {},
   "source": [
    "<div class=\"alert alert-block alert-info\">\n",
    "<b> <h1>ВЫВОД </h1> </b> <p>В ходе проекта мы достигли цель, поставленную в начале. Регион, который можно рекомендовать - это первый регион. Потому что только он проходит порог риска, который поставил заказчик. </ p>  \n",
    "<p>В данном проекте были проделаны следующие шаги:\n",
    "    <li>были импортированы данные по трем регионам</li>\n",
    "    <li>проведен первичный анализ, который выявил ряд проблем</li>\n",
    "    <li>была проведена оценка корреляции(данная оценка показала, что в данных из первого региона имеется высокая зависимость между признаками и целевым показателем. Что в будущем может привести к более точному обучению модели на этих данных.)</li>\n",
    "    <li>были удалены дубликаты данных</li>\n",
    "    <li>были удалены выбросы</li>\n",
    "    <li>обучили каждую модель на тренировочном наборе данных</li>\n",
    "    <li>сделали предсказания на валидационном наборе данных</li>\n",
    "    <li>предсказания добавили к каждой таблице, позже будем использовать их для подсчёта прибыли</li>\n",
    "    <li>нашли точку безубыточности </li>\n",
    "    <li>расчитали прибыль, риск и доверительный интервал с использованием Bootstrap</li>\n",
    "\n",
    " \n",
    "</div>"
   ]
  },
  {
   "cell_type": "code",
   "execution_count": null,
   "metadata": {},
   "outputs": [],
   "source": []
  }
 ],
 "metadata": {
  "ExecuteTimeLog": [
   {
    "duration": 1821,
    "start_time": "2023-01-19T07:34:25.268Z"
   },
   {
    "duration": 125,
    "start_time": "2023-01-19T07:34:27.092Z"
   },
   {
    "duration": 0,
    "start_time": "2023-01-19T07:34:27.221Z"
   },
   {
    "duration": 0,
    "start_time": "2023-01-19T07:34:27.225Z"
   },
   {
    "duration": 0,
    "start_time": "2023-01-19T07:34:27.226Z"
   },
   {
    "duration": 0,
    "start_time": "2023-01-19T07:34:27.228Z"
   },
   {
    "duration": 0,
    "start_time": "2023-01-19T07:34:27.230Z"
   },
   {
    "duration": 0,
    "start_time": "2023-01-19T07:34:27.231Z"
   },
   {
    "duration": 0,
    "start_time": "2023-01-19T07:34:27.232Z"
   },
   {
    "duration": 0,
    "start_time": "2023-01-19T07:34:27.234Z"
   },
   {
    "duration": 0,
    "start_time": "2023-01-19T07:34:27.235Z"
   },
   {
    "duration": 0,
    "start_time": "2023-01-19T07:34:27.237Z"
   },
   {
    "duration": 0,
    "start_time": "2023-01-19T07:34:27.238Z"
   },
   {
    "duration": 0,
    "start_time": "2023-01-19T07:34:27.240Z"
   },
   {
    "duration": 0,
    "start_time": "2023-01-19T07:34:27.241Z"
   },
   {
    "duration": 0,
    "start_time": "2023-01-19T07:34:27.243Z"
   },
   {
    "duration": 0,
    "start_time": "2023-01-19T07:34:27.245Z"
   },
   {
    "duration": 0,
    "start_time": "2023-01-19T07:34:27.246Z"
   },
   {
    "duration": 0,
    "start_time": "2023-01-19T07:34:27.247Z"
   },
   {
    "duration": 0,
    "start_time": "2023-01-19T07:34:27.249Z"
   },
   {
    "duration": 0,
    "start_time": "2023-01-19T07:34:27.251Z"
   },
   {
    "duration": 0,
    "start_time": "2023-01-19T07:34:27.252Z"
   },
   {
    "duration": 0,
    "start_time": "2023-01-19T07:34:27.253Z"
   },
   {
    "duration": 0,
    "start_time": "2023-01-19T07:34:27.254Z"
   },
   {
    "duration": 0,
    "start_time": "2023-01-19T07:34:27.256Z"
   },
   {
    "duration": 0,
    "start_time": "2023-01-19T07:34:27.256Z"
   },
   {
    "duration": 1559,
    "start_time": "2023-01-19T07:37:18.109Z"
   },
   {
    "duration": 774,
    "start_time": "2023-01-19T07:37:19.670Z"
   },
   {
    "duration": 5,
    "start_time": "2023-01-19T07:37:20.446Z"
   },
   {
    "duration": 53,
    "start_time": "2023-01-19T07:37:20.453Z"
   },
   {
    "duration": 45,
    "start_time": "2023-01-19T07:37:20.507Z"
   },
   {
    "duration": 86,
    "start_time": "2023-01-19T07:37:20.554Z"
   },
   {
    "duration": 121,
    "start_time": "2023-01-19T07:37:20.642Z"
   },
   {
    "duration": 59,
    "start_time": "2023-01-19T07:37:20.765Z"
   },
   {
    "duration": 90,
    "start_time": "2023-01-19T07:37:20.826Z"
   },
   {
    "duration": 12,
    "start_time": "2023-01-19T07:37:20.918Z"
   },
   {
    "duration": 10,
    "start_time": "2023-01-19T07:37:20.931Z"
   },
   {
    "duration": 171,
    "start_time": "2023-01-19T07:37:20.943Z"
   },
   {
    "duration": 3,
    "start_time": "2023-01-19T07:37:21.116Z"
   },
   {
    "duration": 33,
    "start_time": "2023-01-19T07:37:21.121Z"
   },
   {
    "duration": 5,
    "start_time": "2023-01-19T07:37:21.156Z"
   },
   {
    "duration": 58,
    "start_time": "2023-01-19T07:37:21.162Z"
   },
   {
    "duration": 201,
    "start_time": "2023-01-19T07:37:21.305Z"
   },
   {
    "duration": 123,
    "start_time": "2023-01-19T07:37:21.508Z"
   },
   {
    "duration": 188,
    "start_time": "2023-01-19T07:37:21.704Z"
   },
   {
    "duration": 0,
    "start_time": "2023-01-19T07:37:21.893Z"
   },
   {
    "duration": 0,
    "start_time": "2023-01-19T07:37:21.895Z"
   },
   {
    "duration": 0,
    "start_time": "2023-01-19T07:37:21.895Z"
   },
   {
    "duration": 0,
    "start_time": "2023-01-19T07:37:21.896Z"
   },
   {
    "duration": 0,
    "start_time": "2023-01-19T07:37:21.897Z"
   },
   {
    "duration": 0,
    "start_time": "2023-01-19T07:37:21.897Z"
   },
   {
    "duration": 0,
    "start_time": "2023-01-19T07:37:21.898Z"
   },
   {
    "duration": 165,
    "start_time": "2023-01-19T08:03:44.268Z"
   },
   {
    "duration": 3,
    "start_time": "2023-01-19T08:03:47.118Z"
   },
   {
    "duration": 3,
    "start_time": "2023-01-19T08:03:47.622Z"
   },
   {
    "duration": 4,
    "start_time": "2023-01-19T08:03:48.055Z"
   },
   {
    "duration": 52,
    "start_time": "2023-01-19T08:03:48.606Z"
   },
   {
    "duration": 4,
    "start_time": "2023-01-19T08:03:49.466Z"
   },
   {
    "duration": 3841,
    "start_time": "2023-01-19T08:03:50.222Z"
   },
   {
    "duration": 60,
    "start_time": "2023-01-19T09:16:09.495Z"
   },
   {
    "duration": 1574,
    "start_time": "2023-01-19T09:16:16.485Z"
   },
   {
    "duration": 1888,
    "start_time": "2023-01-19T09:16:19.379Z"
   },
   {
    "duration": 6,
    "start_time": "2023-01-19T09:23:02.820Z"
   },
   {
    "duration": 76,
    "start_time": "2023-01-19T09:25:00.900Z"
   },
   {
    "duration": 4,
    "start_time": "2023-01-19T09:25:06.179Z"
   },
   {
    "duration": 11,
    "start_time": "2023-01-19T09:25:06.459Z"
   }
  ],
  "celltoolbar": "Необработанный формат ячейки",
  "kernelspec": {
   "display_name": "Python 3 (ipykernel)",
   "language": "python",
   "name": "python3"
  },
  "language_info": {
   "codemirror_mode": {
    "name": "ipython",
    "version": 3
   },
   "file_extension": ".py",
   "mimetype": "text/x-python",
   "name": "python",
   "nbconvert_exporter": "python",
   "pygments_lexer": "ipython3",
   "version": "3.9.13"
  },
  "toc": {
   "base_numbering": 1,
   "nav_menu": {},
   "number_sections": true,
   "sideBar": true,
   "skip_h1_title": true,
   "title_cell": "Table of Contents",
   "title_sidebar": "Contents",
   "toc_cell": false,
   "toc_position": {},
   "toc_section_display": true,
   "toc_window_display": false
  }
 },
 "nbformat": 4,
 "nbformat_minor": 2
}
